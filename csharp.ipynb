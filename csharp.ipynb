{
 "cells": [
  {
   "cell_type": "markdown",
   "id": "3f2adf73",
   "metadata": {},
   "source": [
    "## Question 1"
   ]
  },
  {
   "cell_type": "markdown",
   "id": "6ddeb908",
   "metadata": {},
   "source": [
    "5 - int <br>\n",
    "5.0 - float <br>\n",
    "5 > 1 - bool <br>\n",
    "'5' - char <br>\n",
    "5 * 2 - int <br>\n",
    "'5' * 2 - char <br>\n",
    "'5' + '2' - char <br>\n",
    "5 / 2 - int <br>\n",
    "5 % 2 - int <br>\n",
    "{5, 2, 1} - float <br>\n",
    "5 == 3 - bool <br>\n",
    "Pi (3.14) - decimal <br>"
   ]
  },
  {
   "cell_type": "markdown",
   "id": "247d8703",
   "metadata": {},
   "source": [
    "## Question 2"
   ]
  },
  {
   "cell_type": "code",
   "execution_count": 1,
   "id": "6695bc74",
   "metadata": {},
   "outputs": [
    {
     "data": {
      "text/html": [
       "\r\n",
       "<div>\r\n",
       "    <div id='dotnet-interactive-this-cell-7584.Microsoft.DotNet.Interactive.Http.HttpPort' style='display: none'>\r\n",
       "        The below script needs to be able to find the current output cell; this is an easy method to get it.\r\n",
       "    </div>\r\n",
       "    <script type='text/javascript'>\r\n",
       "async function probeAddresses(probingAddresses) {\r\n",
       "    function timeout(ms, promise) {\r\n",
       "        return new Promise(function (resolve, reject) {\r\n",
       "            setTimeout(function () {\r\n",
       "                reject(new Error('timeout'))\r\n",
       "            }, ms)\r\n",
       "            promise.then(resolve, reject)\r\n",
       "        })\r\n",
       "    }\r\n",
       "\r\n",
       "    if (Array.isArray(probingAddresses)) {\r\n",
       "        for (let i = 0; i < probingAddresses.length; i++) {\r\n",
       "\r\n",
       "            let rootUrl = probingAddresses[i];\r\n",
       "\r\n",
       "            if (!rootUrl.endsWith('/')) {\r\n",
       "                rootUrl = `${rootUrl}/`;\r\n",
       "            }\r\n",
       "\r\n",
       "            try {\r\n",
       "                let response = await timeout(1000, fetch(`${rootUrl}discovery`, {\r\n",
       "                    method: 'POST',\r\n",
       "                    cache: 'no-cache',\r\n",
       "                    mode: 'cors',\r\n",
       "                    timeout: 1000,\r\n",
       "                    headers: {\r\n",
       "                        'Content-Type': 'text/plain'\r\n",
       "                    },\r\n",
       "                    body: probingAddresses[i]\r\n",
       "                }));\r\n",
       "\r\n",
       "                if (response.status == 200) {\r\n",
       "                    return rootUrl;\r\n",
       "                }\r\n",
       "            }\r\n",
       "            catch (e) { }\r\n",
       "        }\r\n",
       "    }\r\n",
       "}\r\n",
       "\r\n",
       "function loadDotnetInteractiveApi() {\r\n",
       "    probeAddresses([\"http://192.168.0.77:1000/\", \"http://127.0.0.1:1000/\"])\r\n",
       "        .then((root) => {\r\n",
       "        // use probing to find host url and api resources\r\n",
       "        // load interactive helpers and language services\r\n",
       "        let dotnetInteractiveRequire = require.config({\r\n",
       "        context: '7584.Microsoft.DotNet.Interactive.Http.HttpPort',\r\n",
       "                paths:\r\n",
       "            {\r\n",
       "                'dotnet-interactive': `${root}resources`\r\n",
       "                }\r\n",
       "        }) || require;\r\n",
       "\r\n",
       "            window.dotnetInteractiveRequire = dotnetInteractiveRequire;\r\n",
       "\r\n",
       "            window.configureRequireFromExtension = function(extensionName, extensionCacheBuster) {\r\n",
       "                let paths = {};\r\n",
       "                paths[extensionName] = `${root}extensions/${extensionName}/resources/`;\r\n",
       "                \r\n",
       "                let internalRequire = require.config({\r\n",
       "                    context: extensionCacheBuster,\r\n",
       "                    paths: paths,\r\n",
       "                    urlArgs: `cacheBuster=${extensionCacheBuster}`\r\n",
       "                    }) || require;\r\n",
       "\r\n",
       "                return internalRequire\r\n",
       "            };\r\n",
       "        \r\n",
       "            dotnetInteractiveRequire([\r\n",
       "                    'dotnet-interactive/dotnet-interactive'\r\n",
       "                ],\r\n",
       "                function (dotnet) {\r\n",
       "                    dotnet.init(window);\r\n",
       "                },\r\n",
       "                function (error) {\r\n",
       "                    console.log(error);\r\n",
       "                }\r\n",
       "            );\r\n",
       "        })\r\n",
       "        .catch(error => {console.log(error);});\r\n",
       "    }\r\n",
       "\r\n",
       "// ensure `require` is available globally\r\n",
       "if ((typeof(require) !==  typeof(Function)) || (typeof(require.config) !== typeof(Function))) {\r\n",
       "    let require_script = document.createElement('script');\r\n",
       "    require_script.setAttribute('src', 'https://cdnjs.cloudflare.com/ajax/libs/require.js/2.3.6/require.min.js');\r\n",
       "    require_script.setAttribute('type', 'text/javascript');\r\n",
       "    \r\n",
       "    \r\n",
       "    require_script.onload = function() {\r\n",
       "        loadDotnetInteractiveApi();\r\n",
       "    };\r\n",
       "\r\n",
       "    document.getElementsByTagName('head')[0].appendChild(require_script);\r\n",
       "}\r\n",
       "else {\r\n",
       "    loadDotnetInteractiveApi();\r\n",
       "}\r\n",
       "\r\n",
       "    </script>\r\n",
       "</div>"
      ]
     },
     "metadata": {},
     "output_type": "display_data"
    },
    {
     "name": "stdout",
     "output_type": "stream",
     "text": [
      "34\r\n"
     ]
    }
   ],
   "source": [
    "// (a)\n",
    "\n",
    "string i = \"Supercalifragilisticexpialidocious\";\n",
    "Console.WriteLine(i.Length);"
   ]
  },
  {
   "cell_type": "code",
   "execution_count": 2,
   "id": "192192d3",
   "metadata": {},
   "outputs": [
    {
     "name": "stdout",
     "output_type": "stream",
     "text": [
      "True\r\n"
     ]
    }
   ],
   "source": [
    "// (b)\n",
    "\n",
    "string s = \"Supercalifragilisticexpialidocious\";\n",
    "Console.WriteLine((s.Contains(\"ice\")));"
   ]
  },
  {
   "cell_type": "code",
   "execution_count": 3,
   "id": "2074602c",
   "metadata": {},
   "outputs": [
    {
     "name": "stdout",
     "output_type": "stream",
     "text": [
      "27\n",
      "34\n",
      "Both Supercalifragilisticexpialidocious and Bababadalgharaghtakamminarronnkonn are of equal length and longest words\n"
     ]
    }
   ],
   "source": [
    "// (c)\n",
    "\n",
    "string j = \"Honorificabilitudinitatibus\";\n",
    "Console.WriteLine(j.Length);\n",
    "\n",
    "string k = \"Bababadalgharaghtakamminarronnkonn\";\n",
    "Console.WriteLine(k.Length);\n",
    "\n",
    "if (i.Length > j.Length)\n",
    "{\n",
    "    if (i.Length > k.Length)\n",
    "        Console.WriteLine(i + \" is the longest word\");\n",
    "    else if (i.Length < k.Length)\n",
    "        Console.WriteLine(k + \" is the longest word\");\n",
    "    else\n",
    "        Console.WriteLine(\"Both \" + i + \" and \" + k + \" are of equal length and longest words\");\n",
    "}\n",
    "else if (i.Length < j.Length)\n",
    "{\n",
    "    if (j.Length > k.Length)\n",
    "        Console.WriteLine(j + \" is the longest word\");\n",
    "    else if (j.Length < k.Length)\n",
    "        Console.WriteLine(k + \" is the longest word\");\n",
    "    else\n",
    "        Console.WriteLine(\"Both \" + j + \" and \" + k + \" are of equal length and longest words\");\n",
    "}\n",
    "else\n",
    "{\n",
    "    if (i.Length > k.Length)\n",
    "        Console.WriteLine(\"Both \" + i + \" and \" + j + \" are of equal length and longest words\");\n",
    "    else if (i.Length < k.Length)\n",
    "        Console.WriteLine(k + \" is the longest word\");\n",
    "    else\n",
    "        Console.WriteLine(\"All \" + i + \", \" + j + \", and\" + k + \" have the same length\");\n",
    "}"
   ]
  },
  {
   "cell_type": "code",
   "execution_count": 4,
   "id": "9ffe9f38",
   "metadata": {},
   "outputs": [
    {
     "name": "stdout",
     "output_type": "stream",
     "text": [
      "Bartok\n",
      "Buxtehude\n"
     ]
    }
   ],
   "source": [
    "// (d)\n",
    "\n",
    "string[] stringArrayUnsorted = new string[]\n",
    "{\n",
    "\"Berlioz\",\n",
    "\"Borodin\",\n",
    "\"Brian\",\n",
    "\"Bartok\",\n",
    "\"Bellini\",\n",
    "\"Buxtehude\",\n",
    "\"Bernstein\"\n",
    "};\n",
    "int length = stringArrayUnsorted.Length;\n",
    "\n",
    "var sortedArray = from a in stringArrayUnsorted\n",
    "orderby a\n",
    "select a;\n",
    "\n",
    "Console.WriteLine(sortedArray.First());\n",
    "Console.WriteLine(sortedArray.Last());"
   ]
  },
  {
   "cell_type": "markdown",
   "id": "154f2381",
   "metadata": {},
   "source": [
    "## Question 3"
   ]
  },
  {
   "cell_type": "code",
   "execution_count": 5,
   "id": "c7a1dd3c",
   "metadata": {},
   "outputs": [
    {
     "name": "stderr",
     "output_type": "stream",
     "text": [
      "\r\n",
      "(4,17): warning CS7022: The entry point of the program is global code; ignoring 'Program.Main(string[])' entry point.\r\n",
      "\r\n"
     ]
    }
   ],
   "source": [
    "using System;\n",
    "\n",
    "class Program\n",
    "{\n",
    "    static void Main(string[] args)\n",
    "    {\n",
    "        double s, x, y, z, area;\n",
    "        Console.WriteLine(\"Enter the values of sides of triangle x, y, z \\n\");\n",
    "        x = Convert.ToDouble(Console.ReadLine());\n",
    "        y = Convert.ToDouble(Console.ReadLine());\n",
    "        z = Convert.ToDouble(Console.ReadLine());\n",
    "            \n",
    "        s = (x + y + z) / 2;\n",
    "\n",
    "        area = Math.Sqrt(s * (s - x) * (s - y) * (s - z));\n",
    "\n",
    "        Console.WriteLine(\"Area of triangle is \" + area);\n",
    "        Console.ReadLine();\n",
    "    }\n",
    "}"
   ]
  },
  {
   "cell_type": "markdown",
   "id": "f5d9a9f0",
   "metadata": {},
   "source": [
    "## Question 4"
   ]
  },
  {
   "cell_type": "code",
   "execution_count": 6,
   "id": "53c57356",
   "metadata": {},
   "outputs": [
    {
     "name": "stderr",
     "output_type": "stream",
     "text": [
      "\r\n",
      "(9,17): warning CS7022: The entry point of the program is global code; ignoring 'Program2.Main(string[])' entry point.\r\n",
      "\r\n"
     ]
    }
   ],
   "source": [
    "using System;\n",
    "using System.Collections.Generic;\n",
    "using System.Linq;\n",
    "using System.Text;\n",
    "using System.Threading.Tasks;\n",
    "\n",
    "class Program2\n",
    "{\n",
    "    static void Main(string[] args)\n",
    "        {\n",
    "        Console.WriteLine(\"Hello World!\");\n",
    "\n",
    "        int[] collector = new int[10];\n",
    "        int[] evenArray = new int[10];\n",
    "        int[] oddArray = new int[10];\n",
    "        int x, y = 0, z = 0, i;\n",
    "\n",
    "\n",
    "        Console.Write(\"Input the number of elements to be stored in the array :\");\n",
    "        i = Convert.ToInt32(Console.ReadLine());\n",
    "\n",
    "        Console.Write(\"Input {0} elements in the array :\\n\", i);\n",
    "        for (x = 0; x < i; x++)\n",
    "        {\n",
    "            Console.Write(\"element - {0} : \", x);\n",
    "            collector[x] = Convert.ToInt32(Console.ReadLine());\n",
    "        }\n",
    "\n",
    "        for (x = 0; x < i; x++)\n",
    "        {\n",
    "            if (collector[x] % 2 == 0)\n",
    "            {\n",
    "                evenArray[y] = collector[x];\n",
    "                y++;\n",
    "            }\n",
    "            else\n",
    "            {\n",
    "                oddArray[z] = collector[x];\n",
    "                z++;\n",
    "            }\n",
    "        }\n",
    "        Console.Write(\"\\nThe Even elements are : \\n\");\n",
    "        for (x = 0; x < y; x++)\n",
    "        {\n",
    "            Console.Write(\"{0} \", evenArray[x]);\n",
    "        }\n",
    "\n",
    "        Console.Write(\"\\nThe Odd elements are :\\n\");\n",
    "        for (x = 0; x < z; x++)\n",
    "        {\n",
    "           Console.Write(\"{0} \", oddArray[x]);\n",
    "        }\n",
    "        Console.ReadLine();\n",
    "    }\n",
    "}"
   ]
  },
  {
   "cell_type": "markdown",
   "id": "4b7b713a",
   "metadata": {},
   "source": [
    "## Question 5"
   ]
  },
  {
   "cell_type": "code",
   "execution_count": 7,
   "id": "2df38925",
   "metadata": {},
   "outputs": [
    {
     "name": "stderr",
     "output_type": "stream",
     "text": [
      "\r\n",
      "(7,1): error CS7021: Cannot declare namespace in script code\r\n",
      "\r\n"
     ]
    },
    {
     "ename": "Cell not executed",
     "evalue": "compilation error",
     "output_type": "error",
     "traceback": []
    }
   ],
   "source": [
    "using System;\n",
    "using System.Collections.Generic;\n",
    "using System.Linq;\n",
    "using System.Text;\n",
    "using System.Threading.Tasks;\n",
    "\n",
    "namespace ConsoleApp2\n",
    "{\n",
    "    public class Program3\n",
    "    {\n",
    "        static bool Inside(int x1, int y1, int x2, int y2, int x, int y)\n",
    "        {\n",
    "            if (x > x1 && x < x2 && y > yl && y < y2)\n",
    "            {\n",
    "                return true;\n",
    "            }\n",
    "            else\n",
    "            {\n",
    "                return false;\n",
    "            }\n",
    "\n",
    "        }\n",
    "        static void Main(string[] args)\n",
    "        {\n",
    "            int x = 1, y=1,x1=0, y1=0, x2 = 2, y2 = 3;\n",
    "            if (Inside(x1, y1, x2, y2, x, y))\n",
    "            {\n",
    "                Console.Write(\"True\");\n",
    "            }\n",
    "            else\n",
    "            {\n",
    "                Console.Write(\"False\");\n",
    "            }\n",
    "            Console.ReadLine();\n",
    "        }\n",
    "    }\n",
    "}"
   ]
  }
 ],
 "metadata": {
  "kernelspec": {
   "display_name": ".NET (C#)",
   "language": "C#",
   "name": ".net-csharp"
  },
  "language_info": {
   "file_extension": ".cs",
   "mimetype": "text/x-csharp",
   "name": "C#",
   "pygments_lexer": "csharp",
   "version": "9.0"
  }
 },
 "nbformat": 4,
 "nbformat_minor": 5
}
