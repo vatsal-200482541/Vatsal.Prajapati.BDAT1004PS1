{
 "cells": [
  {
   "cell_type": "markdown",
   "id": "91e40826",
   "metadata": {},
   "source": [
    "## Question 6"
   ]
  },
  {
   "cell_type": "code",
   "execution_count": 1,
   "id": "70fecc96",
   "metadata": {},
   "outputs": [
    {
     "name": "stdout",
     "output_type": "stream",
     "text": [
      "appyhay\n",
      "enterway\n"
     ]
    }
   ],
   "source": [
    "a = \"way\"\n",
    "b = \"ay\"\n",
    "\n",
    "def pig(insert):\n",
    "    if len(insert) > 0:\n",
    "        word = insert.lower()\n",
    "        first = word[0]\n",
    "        if first == \"a\" or first == \"e\" or first == \"i\" or first == \"o\" or first == \"u\" or first == \"A\" or first == \"E\" or first == \"I\" or first == \"O\" or first == \"U\":\n",
    "            new_word = word + a\n",
    "            print(new_word.lower())\n",
    "        else:\n",
    "            new_word = word[1:]\n",
    "            print((new_word + first + b).lower())\n",
    "\n",
    "pig('happy')\n",
    "pig('Enter')"
   ]
  },
  {
   "cell_type": "markdown",
   "id": "6ee4be6e",
   "metadata": {},
   "source": [
    "## Question 7"
   ]
  },
  {
   "cell_type": "code",
   "execution_count": 2,
   "id": "7b4ba568",
   "metadata": {},
   "outputs": [],
   "source": [
    "def bldcount(name):\n",
    "    file = open(name, 'r')\n",
    "    reports = file.read()\n",
    "    file.close()\n",
    "    reports = reports.split()\n",
    "    bloodtype = ['A','B','AB','O','OO']\n",
    "    for i in bloodtype:\n",
    "        if reports.count(i) == 0:\n",
    "            print('There are no patients of blood type', i+ '.')\n",
    "        elif reports.count(i) == 1:\n",
    "            print('There is one patient of blood type', i+ '.')\n",
    "        else:print('There are', reports.count(i),'patients of blood type', i+'.')"
   ]
  },
  {
   "cell_type": "code",
   "execution_count": 3,
   "id": "79380726",
   "metadata": {},
   "outputs": [
    {
     "name": "stdout",
     "output_type": "stream",
     "text": [
      "There are 15 patients of blood type A.\n",
      "There is one patient of blood type B.\n",
      "There are 13 patients of blood type AB.\n",
      "There are 15 patients of blood type O.\n",
      "There are no patients of blood type OO.\n"
     ]
    }
   ],
   "source": [
    "bldcount('bloodtype.txt')"
   ]
  },
  {
   "cell_type": "markdown",
   "id": "e58b1d14",
   "metadata": {},
   "source": [
    "## Question 8"
   ]
  },
  {
   "cell_type": "code",
   "execution_count": 4,
   "id": "9113d665",
   "metadata": {},
   "outputs": [
    {
     "name": "stdout",
     "output_type": "stream",
     "text": [
      "122.96544\n",
      "1.241401\n"
     ]
    }
   ],
   "source": [
    "def curconv(currency, amount):\n",
    "    file = open(\"currencies.txt\")\n",
    "    currencies = file.read()\n",
    "    lines = currencies.splitlines()\n",
    "    for line in lines:\n",
    "        code = line[0:3]\n",
    "        if code == currency:\n",
    "            words = line.split()\n",
    "            value = float(words[1])\n",
    "            print(value * amount)\n",
    "            break\n",
    "curconv('EUR', 100)\n",
    "curconv('JPY', 100)"
   ]
  },
  {
   "cell_type": "markdown",
   "id": "cd781f97",
   "metadata": {},
   "source": [
    "## Question 9"
   ]
  },
  {
   "cell_type": "markdown",
   "id": "78d2e947",
   "metadata": {},
   "source": [
    "Trying to add incompatible variables, as in\n",
    "adding 6 + ‘a’\n",
    "\n",
    "TypeError: unsupported operand type(s) for +: 'int' and 'str'"
   ]
  },
  {
   "cell_type": "markdown",
   "id": "b012fb9e",
   "metadata": {},
   "source": [
    "Referring to the 12th item of a list that has only 10 items\n",
    "\n",
    "IndexError: list index out of range"
   ]
  },
  {
   "cell_type": "markdown",
   "id": "3a44ca00",
   "metadata": {},
   "source": [
    "Using a value that is out of range for a function’s input, such as calling math.sqrt(-1.0)\n",
    "\n",
    "ValueError: math domain error"
   ]
  },
  {
   "cell_type": "markdown",
   "id": "462c6d52",
   "metadata": {},
   "source": [
    "Using an undeclared variable, such as print(x) when x has not been defined\n",
    "\n",
    "NameErroe: undeclared identifier"
   ]
  },
  {
   "cell_type": "markdown",
   "id": "e5aa82dd",
   "metadata": {},
   "source": [
    "Trying to open a file that does not exist, such as mistyping the file name or looking in the wrong directory.\n",
    "\n",
    "IOError: No such file or directory"
   ]
  },
  {
   "cell_type": "markdown",
   "id": "c3faf086",
   "metadata": {},
   "source": [
    "## Question 10"
   ]
  },
  {
   "cell_type": "code",
   "execution_count": 5,
   "id": "3c84a277",
   "metadata": {},
   "outputs": [
    {
     "name": "stdout",
     "output_type": "stream",
     "text": [
      "[1, 2, 1, 1]\n"
     ]
    }
   ],
   "source": [
    "Letter = \"abcdefghijklmnopqrstuvwxyz\"\n",
    "def frequencies(itemlist):\n",
    "    word = {}\n",
    "    for item in itemlist:\n",
    "        if item in word:\n",
    "            word[item] += 1\n",
    "        else:\n",
    "            word[item] = 1\n",
    "            \n",
    "    repeat_value = word.values()\n",
    "    \n",
    "    Listofvalues = list(repeat_value)\n",
    "    print(Listofvalues)\n",
    "    \n",
    "frequencies(\"apple\")"
   ]
  }
 ],
 "metadata": {
  "kernelspec": {
   "display_name": "Python 3 (ipykernel)",
   "language": "python",
   "name": "python3"
  },
  "language_info": {
   "codemirror_mode": {
    "name": "ipython",
    "version": 3
   },
   "file_extension": ".py",
   "mimetype": "text/x-python",
   "name": "python",
   "nbconvert_exporter": "python",
   "pygments_lexer": "ipython3",
   "version": "3.9.7"
  }
 },
 "nbformat": 4,
 "nbformat_minor": 5
}
